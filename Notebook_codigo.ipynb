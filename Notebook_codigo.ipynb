{
  "nbformat": 4,
  "nbformat_minor": 0,
  "metadata": {
    "colab": {
      "name": "Notebook_codigo.ipynb",
      "provenance": [],
      "authorship_tag": "ABX9TyM3T3xhwfMw3+iv0vwgeH+f",
      "include_colab_link": true
    },
    "kernelspec": {
      "name": "python3",
      "display_name": "Python 3"
    },
    "accelerator": "GPU"
  },
  "cells": [
    {
      "cell_type": "markdown",
      "metadata": {
        "id": "view-in-github",
        "colab_type": "text"
      },
      "source": [
        "<a href=\"https://colab.research.google.com/github/morbid-face/JI_2020_JuanDiegoGV/blob/master/Notebook_codigo.ipynb\" target=\"_parent\"><img src=\"https://colab.research.google.com/assets/colab-badge.svg\" alt=\"Open In Colab\"/></a>"
      ]
    },
    {
      "cell_type": "code",
      "metadata": {
        "id": "V1azfNZTPEXo",
        "colab_type": "code",
        "colab": {}
      },
      "source": [
        "#Probando Colab en GitHub"
      ],
      "execution_count": null,
      "outputs": []
    },
    {
      "cell_type": "code",
      "metadata": {
        "id": "3yOWuEFJR_Sk",
        "colab_type": "code",
        "colab": {}
      },
      "source": [
        "import pandas as pd\n",
        "import numpy as np\n",
        "from matplotlib import pyplot as plt\n",
        "from sklearn.preprocessing import MinMaxScaler\n",
        "from sklearn.model_selection import train_test_split\n",
        "import torch.nn.functional as F\n",
        "import tqdm\n",
        "import torch\n",
        "import torch.nn as nn\n",
        "from torch.utils.data import TensorDataset, DataLoader\n",
        "from sklearn import metrics"
      ],
      "execution_count": null,
      "outputs": []
    },
    {
      "cell_type": "code",
      "metadata": {
        "id": "qiKCkCdBSi75",
        "colab_type": "code",
        "colab": {}
      },
      "source": [
        "url = 'https://raw.githubusercontent.com/morbid-face/Sistema-de-prediccion-de-la-calidad-del-aire-sensores-ciudadanos-cientificos/master/Aire.csv'\n",
        "df = pd.read_csv(url)\n",
        "df.info()"
      ],
      "execution_count": null,
      "outputs": []
    },
    {
      "cell_type": "code",
      "metadata": {
        "id": "AlR5hn-sTvHB",
        "colab_type": "code",
        "colab": {}
      },
      "source": [
        "df = df.rename(columns={'Unnamed: 0':'Sensores'})\n",
        "df = df.astype({'Sensores': str})\n",
        "df.head()"
      ],
      "execution_count": null,
      "outputs": []
    },
    {
      "cell_type": "markdown",
      "metadata": {
        "id": "f1eRDVw5UBMQ",
        "colab_type": "text"
      },
      "source": [
        "Selección de datos para predicción con datos anteriores del sensor objetivo."
      ]
    },
    {
      "cell_type": "code",
      "metadata": {
        "id": "GkIY8fDQT8tL",
        "colab_type": "code",
        "colab": {}
      },
      "source": [
        "X = df.iloc[22,1:].values.T\n",
        "\n",
        "X = np.expand_dims(X,1)"
      ],
      "execution_count": 11,
      "outputs": []
    },
    {
      "cell_type": "markdown",
      "metadata": {
        "id": "tl3a7ezkUNXZ",
        "colab_type": "text"
      },
      "source": [
        "Selección de datos para predicción con datos de todos los sensores de la red."
      ]
    },
    {
      "cell_type": "code",
      "metadata": {
        "id": "ygOzxVW3UMhZ",
        "colab_type": "code",
        "colab": {}
      },
      "source": [
        "X = df.iloc[:,1:].values.T"
      ],
      "execution_count": null,
      "outputs": []
    },
    {
      "cell_type": "markdown",
      "metadata": {
        "id": "P99yYmiRUQ7K",
        "colab_type": "text"
      },
      "source": [
        "Selección de datos para predicción con datos de los sensores vecinos del sensor objetivo."
      ]
    },
    {
      "cell_type": "code",
      "metadata": {
        "id": "MPMkI6iXUUAe",
        "colab_type": "code",
        "colab": {}
      },
      "source": [
        "X = df.iloc[[22,58,93,92,4],1:].values.T"
      ],
      "execution_count": null,
      "outputs": []
    },
    {
      "cell_type": "markdown",
      "metadata": {
        "id": "3WloBjvmUbNW",
        "colab_type": "text"
      },
      "source": [
        "Conversión de datos a tipo float64."
      ]
    },
    {
      "cell_type": "code",
      "metadata": {
        "id": "xJti8feNUaVx",
        "colab_type": "code",
        "colab": {}
      },
      "source": [
        "X.astype(\"float64\")\n",
        "print(\"X Shape: \", X.shape, \"\\nX type:\", type(X))"
      ],
      "execution_count": null,
      "outputs": []
    },
    {
      "cell_type": "markdown",
      "metadata": {
        "id": "Nb04E3FZUgrF",
        "colab_type": "text"
      },
      "source": [
        "Selección del porcentaje de datos que se usarán para el entrenamiento (95.9%) y la validación (4.1%)."
      ]
    },
    {
      "cell_type": "code",
      "metadata": {
        "id": "coR3N5WxUgNG",
        "colab_type": "code",
        "colab": {}
      },
      "source": [
        "Xtrain, Xtest = train_test_split(X, train_size = 0.959, test_size = 0.041,\n",
        "                                 shuffle = False)\n",
        "Xtr, Xval = train_test_split(Xtrain,train_size=0.959, test_size=0.041,\n",
        "                             shuffle=False)\n",
        "print(Xtrain.shape, Xtest.shape)\n",
        "print(Xtr.shape, Xval.shape)"
      ],
      "execution_count": null,
      "outputs": []
    },
    {
      "cell_type": "markdown",
      "metadata": {
        "id": "m31PEHH7Ulsc",
        "colab_type": "text"
      },
      "source": [
        "Índice del sensor al que se le busca hacer la predicción. Como se explica en la metodología; este índice varía según la forma en como se esté haciendo la predicción:\n",
        "\n",
        "* Si se desea predecir a partir de las mediciones de la red completa se usa la posición del sensor en la base de datos (22).\n",
        "* Si se desea predecir a partir de los datos del propio sensor, se usa el número cero, ya que este será el único sensor que reciba la red.\n",
        "* Si se desea predecir a partir de los datos de los sensores vecinos, entonces se usará la posición en la que se encuentre el sensor objetivo en el vector de sensores de entrada.\n",
        "\n"
      ]
    },
    {
      "cell_type": "code",
      "metadata": {
        "id": "Go7FJg_kUlF5",
        "colab_type": "code",
        "colab": {}
      },
      "source": [
        "sensor_idx = 0"
      ],
      "execution_count": null,
      "outputs": []
    },
    {
      "cell_type": "markdown",
      "metadata": {
        "id": "IBgJgZuHU1UP",
        "colab_type": "text"
      },
      "source": [
        "Normalización de los datos usando MinMaxScaler. Esto es reescalar los datos al rango de 0 a 1 ya que las LSTMs son sensibles a la escala del input."
      ]
    },
    {
      "cell_type": "code",
      "metadata": {
        "id": "0Qi8u3WgU3N_",
        "colab_type": "code",
        "colab": {}
      },
      "source": [
        "scal_tr = MinMaxScaler()\n",
        "scal_tr.fit(Xtr[:,sensor_idx].reshape(-1,1))\n",
        "\n",
        "scal = MinMaxScaler()\n",
        "Xtr = scal.fit_transform(Xtr)\n",
        "Xval = scal.transform(Xval)\n",
        "Xtest = scal.transform(Xtest)\n",
        "#print(Xtr)"
      ],
      "execution_count": null,
      "outputs": []
    },
    {
      "cell_type": "markdown",
      "metadata": {
        "id": "P5rUkr36U6jB",
        "colab_type": "text"
      },
      "source": [
        "\n",
        "\n",
        "Se define la función create_sequences, la cual tiene como parámetros de entrada la matriz de sensores (matrix), el índice del sensor objetivo (targ_index) y los puntos de la ventana deslizante hacia el pasado (Time_Steps). Dicha función retorna una secuencia de 5 (en este caso) datos anteriores y una etiqueta del valor real que el modelo debería predecir.\n"
      ]
    },
    {
      "cell_type": "code",
      "metadata": {
        "id": "bFiZ8-5wU9Aa",
        "colab_type": "code",
        "colab": {}
      },
      "source": [
        "def create_sequences(matrix, targ_index, Time_Steps):\n",
        "    \n",
        "    dim_0 = matrix.shape[0] - Time_Steps\n",
        "    dim_1 = matrix.shape[1]\n",
        "    \n",
        "    x = np.zeros((dim_0, Time_Steps,dim_1))\n",
        "    y = np.zeros((dim_0,1))\n",
        "    \n",
        "    for i in tqdm.notebook.tqdm(range(dim_0)):\n",
        "        \n",
        "        aux = matrix[i : Time_Steps + i, :]\n",
        "        x[i,:,:] = aux\n",
        "        y[i,:] = matrix[Time_Steps+i, targ_index]\n",
        "        \n",
        "    print(\"length of time-series i/o\",x.shape,y.shape)\n",
        "    \n",
        "    return x, y"
      ],
      "execution_count": null,
      "outputs": []
    },
    {
      "cell_type": "markdown",
      "metadata": {
        "id": "98IfkSYmVA_8",
        "colab_type": "text"
      },
      "source": [
        "Se establece el Time_Steps como tw y se crean las series de tiempo usando la función create_sequences.\n"
      ]
    },
    {
      "cell_type": "code",
      "metadata": {
        "id": "yqSi2-mqVI1m",
        "colab_type": "code",
        "colab": {}
      },
      "source": [
        "tw = 5 \n",
        "\n",
        "Xtr, ytr = create_sequences(Xtr, sensor_idx,tw)\n",
        "Xval, yval = create_sequences(Xval, sensor_idx,tw)\n",
        "Xtest, ytest = create_sequences(Xtest, sensor_idx,tw)"
      ],
      "execution_count": null,
      "outputs": []
    },
    {
      "cell_type": "code",
      "metadata": {
        "id": "OtHgGWpTVZni",
        "colab_type": "code",
        "colab": {}
      },
      "source": [
        "print(Xtr.shape, ytr.shape)"
      ],
      "execution_count": null,
      "outputs": []
    },
    {
      "cell_type": "markdown",
      "metadata": {
        "id": "WMQLXk4AVOjS",
        "colab_type": "text"
      },
      "source": [
        "Creación de paquetes de entrenamiento (train_loader) y de validación (val_loader).\n"
      ]
    },
    {
      "cell_type": "code",
      "metadata": {
        "id": "7eREVTAqVR_D",
        "colab_type": "code",
        "colab": {}
      },
      "source": [
        "batch_size = 24\n",
        "\n",
        "train_data = TensorDataset(torch.from_numpy(Xtr), torch.from_numpy(ytr))\n",
        "train_loader = DataLoader(train_data, shuffle = True, batch_size = batch_size,\n",
        "                         drop_last = True)\n",
        "\n",
        "val_data = TensorDataset(torch.from_numpy(Xval), torch.from_numpy(yval))\n",
        "val_loader = DataLoader(val_data, shuffle = True, batch_size = batch_size,\n",
        "                       drop_last = True)"
      ],
      "execution_count": null,
      "outputs": []
    },
    {
      "cell_type": "code",
      "metadata": {
        "id": "Bb27j4q_Vf7-",
        "colab_type": "code",
        "colab": {}
      },
      "source": [
        "# torch.cuda.is_available() Comprueba si es posible usar GPU; Si es posible retorna True, de lo contrario retorna False.\n",
        "is_cuda = torch.cuda.is_available()\n",
        "\n",
        "\n",
        "if is_cuda:\n",
        "    device = torch.device(\"cuda\")\n",
        "else:\n",
        "    device = torch.device(\"cpu\")"
      ],
      "execution_count": null,
      "outputs": []
    },
    {
      "cell_type": "markdown",
      "metadata": {
        "id": "kzW67Tk3VcoX",
        "colab_type": "text"
      },
      "source": [
        "\n",
        "\n",
        "Se define la arquitectura de la red LSTM como tal.\n"
      ]
    },
    {
      "cell_type": "code",
      "metadata": {
        "id": "MeusaIjxVisG",
        "colab_type": "code",
        "colab": {}
      },
      "source": [
        "class LSTMNet(nn.Module):\n",
        "    def __init__(self, input_dim, hidden_dim, output_dim, n_layers, drop_prob=0.2):\n",
        "        super(LSTMNet, self).__init__()\n",
        "        self.hidden_dim = hidden_dim\n",
        "        self.n_layers = n_layers\n",
        "        \n",
        "        self.lstm = nn.LSTM(input_dim, hidden_dim, n_layers, batch_first=True, dropout=drop_prob)\n",
        "        self.fc = nn.Linear(hidden_dim, output_dim)\n",
        "        self.relu = nn.ReLU()\n",
        "        \n",
        "    def forward(self, x, h):\n",
        "        out, h = self.lstm(x, h)\n",
        "        out = self.fc(self.relu(out[:,-1]))\n",
        "        return out, h\n",
        "    \n",
        "    def init_hidden(self, batch_size):\n",
        "        weight = next(self.parameters()).data\n",
        "        hidden = (weight.new(self.n_layers, batch_size, self.hidden_dim).zero_().to(device),\n",
        "                  weight.new(self.n_layers, batch_size, self.hidden_dim).zero_().to(device))\n",
        "        return hidden"
      ],
      "execution_count": null,
      "outputs": []
    },
    {
      "cell_type": "markdown",
      "metadata": {
        "id": "8ZvA0SCjVokr",
        "colab_type": "text"
      },
      "source": [
        "Se establecen algunas características de la red LSTM y se establece como modelo dicha red."
      ]
    },
    {
      "cell_type": "code",
      "metadata": {
        "id": "YzayN_2-Vq9n",
        "colab_type": "code",
        "colab": {}
      },
      "source": [
        "n_features = Xtr.shape[2] # Carácterísticas que se usarán para la predicción. En este caso es la cantidad de sensores que se usan en la predicción.\n",
        "n_timesteps = tw # Es el número del \"Time_Steps\".\n",
        "hidden_dim = 256\n",
        "output_dim = 1 # Se desea predecir las mediciones para un solo sensor.\n",
        "n_layers = 2\n",
        "\n",
        "\n",
        "model = LSTMNet(n_features,hidden_dim,output_dim,n_layers)\n",
        "model.to(device)\n",
        "\n",
        "criterion = torch.nn.MSELoss() \n",
        "optimizer = torch.optim.Adam(model.parameters(), lr=0.001)\n",
        "\n",
        "train_episodes = 60"
      ],
      "execution_count": null,
      "outputs": []
    },
    {
      "cell_type": "code",
      "metadata": {
        "id": "GFm7i0MlVvL0",
        "colab_type": "code",
        "colab": {}
      },
      "source": [
        "model.train()\n",
        "for t in range(train_episodes):\n",
        "    htr = model.init_hidden(batch_size)\n",
        "    for x,y in train_loader:\n",
        "        htr = tuple([e.data for e in htr])\n",
        "        model.zero_grad()\n",
        "        output, htr = model(x.to(device).float(),htr) \n",
        "        loss = criterion(output, y.to(device).float())  \n",
        "        #Calcular gradiente\n",
        "        loss.backward() \n",
        "        #Mover los datos\n",
        "        optimizer.step()        \n",
        "        \n",
        "    hval = model.init_hidden(batch_size)    \n",
        "    for xval,yval in val_loader:\n",
        "        hval = tuple([e.data for e in hval])\n",
        "        output_val, hval = model(xval.to(device).float(),htr) \n",
        "        loss_val = criterion(output_val, yval.to(device).float()) \n",
        "    \n",
        "    \n",
        "        \n",
        "        \n",
        "        \n",
        "    print('step : ' , t , ' loss_train: ' , loss.item(), ' loss_val: ', loss_val.item())"
      ],
      "execution_count": null,
      "outputs": []
    },
    {
      "cell_type": "code",
      "metadata": {
        "id": "u5wmtbYJVvIM",
        "colab_type": "code",
        "colab": {}
      },
      "source": [
        "print(Xtest.shape, ytest.shape)"
      ],
      "execution_count": null,
      "outputs": []
    },
    {
      "cell_type": "code",
      "metadata": {
        "id": "vZ35LA3CV3aL",
        "colab_type": "code",
        "colab": {}
      },
      "source": [
        "#Evaluate the model\n",
        "model.eval()\n",
        "#Xtest = torch.from_numpy(Xtest[:,sensor_idx])\n",
        "Xtest = torch.from_numpy(Xtest)\n",
        "htest = model.init_hidden(Xtest.shape[0])\n",
        "out, htest = model(Xtest.to(device).float(), htest)\n",
        "\n",
        "out = out.cpu().detach().numpy()\n",
        "\n",
        "out = scal_tr.inverse_transform(out)\n",
        "ytest = scal_tr.inverse_transform(ytest)"
      ],
      "execution_count": null,
      "outputs": []
    },
    {
      "cell_type": "code",
      "metadata": {
        "id": "O8E1io60V5d7",
        "colab_type": "code",
        "colab": {}
      },
      "source": [
        "fig = plt.figure()\n",
        "\n",
        "ax11 = fig.add_subplot(211)\n",
        "ax11.plot(ytest, 'r', label='Real')\n",
        "\n",
        "ax11.set_title('Mediciones reales vs Mediciones predichas ',fontweight='bold')\n",
        "ax11.set_ylabel('PM2.5 [ug/m^3]')\n",
        "ax11.set_xlabel('Tiempo [h]')\n",
        "ax11.plot(out, label='Predicción')\n",
        "ax11.legend(loc=(0,0))\n",
        "plt.grid()\n",
        "#plt.savefig('Prediccion_vecinos.pdf')\n",
        "\n",
        "plt.show()"
      ],
      "execution_count": null,
      "outputs": []
    },
    {
      "cell_type": "code",
      "metadata": {
        "id": "3T2OHadPWCob",
        "colab_type": "code",
        "colab": {}
      },
      "source": [
        ""
      ],
      "execution_count": null,
      "outputs": []
    }
  ]
}