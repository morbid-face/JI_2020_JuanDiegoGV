{
  "nbformat": 4,
  "nbformat_minor": 0,
  "metadata": {
    "colab": {
      "name": "Notebook_codigo.ipynb",
      "provenance": [],
      "authorship_tag": "ABX9TyMIT3nwLqj6u00CjRnJvB68",
      "include_colab_link": true
    },
    "kernelspec": {
      "name": "python3",
      "display_name": "Python 3"
    }
  },
  "cells": [
    {
      "cell_type": "markdown",
      "metadata": {
        "id": "view-in-github",
        "colab_type": "text"
      },
      "source": [
        "<a href=\"https://colab.research.google.com/github/morbid-face/JI_2020_JuanDiegoGV/blob/master/Notebook_codigo.ipynb\" target=\"_parent\"><img src=\"https://colab.research.google.com/assets/colab-badge.svg\" alt=\"Open In Colab\"/></a>"
      ]
    },
    {
      "cell_type": "code",
      "metadata": {
        "id": "V1azfNZTPEXo",
        "colab_type": "code",
        "colab": {}
      },
      "source": [
        "#Probando Colab en GitHub"
      ],
      "execution_count": 3,
      "outputs": []
    },
    {
      "cell_type": "code",
      "metadata": {
        "id": "3yOWuEFJR_Sk",
        "colab_type": "code",
        "colab": {
          "base_uri": "https://localhost:8080/",
          "height": 35
        },
        "outputId": "b0cd9a09-d8a4-4b67-83ab-800200024358"
      },
      "source": [
        "print(\"Hello GitHub\")"
      ],
      "execution_count": 4,
      "outputs": [
        {
          "output_type": "stream",
          "text": [
            "Hello GitHub\n"
          ],
          "name": "stdout"
        }
      ]
    }
  ]
}